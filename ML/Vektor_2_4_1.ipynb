{
 "cells": [
  {
   "cell_type": "code",
   "execution_count": 1,
   "id": "b66f2c9a-0e96-44bb-8238-876b48af83c3",
   "metadata": {},
   "outputs": [],
   "source": [
    "from sklearn.feature_extraction.text import TfidfVectorizer\n",
    "from sklearn import svm\n",
    "import pandas as pd"
   ]
  },
  {
   "cell_type": "markdown",
   "id": "c88f4019-5b84-4094-9959-fe7aec9d4b05",
   "metadata": {},
   "source": [
    "Выгрузка дата сета X_4_1 Типы работ по кап.рем"
   ]
  },
  {
   "cell_type": "code",
   "execution_count": 2,
   "id": "5299e4aa-2b53-4db1-8c22-6d5dea98542a",
   "metadata": {},
   "outputs": [],
   "source": [
    "X_4_1_xlsx = 'E:\\Data10\\X_4.1.xlsx'\n",
    "X_4_1 = pd.read_excel(X_4_1_xlsx, header=1) #первая строчка пустая"
   ]
  },
  {
   "cell_type": "code",
   "execution_count": null,
   "id": "7b828d8d-549b-4131-ad14-8e5ea10676d0",
   "metadata": {},
   "outputs": [],
   "source": []
  },
  {
   "cell_type": "code",
   "execution_count": 3,
   "id": "f60e690b-f72f-4539-b6f8-c065172218e9",
   "metadata": {},
   "outputs": [],
   "source": [
    "X_2_xlsx = 'E:\\Data10\\X_2.xlsx'\n",
    "X_2 = pd.read_excel(X_2_xlsx, engine = 'openpyxl')"
   ]
  },
  {
   "cell_type": "code",
   "execution_count": 4,
   "id": "bee4eed9-d8b9-4d71-b04f-980de8d2c1b2",
   "metadata": {},
   "outputs": [],
   "source": [
    "X_2 = X_2.rename(columns={'Наименование': 'Инциденты'})"
   ]
  },
  {
   "cell_type": "code",
   "execution_count": 5,
   "id": "7d357ab8-3f13-4178-9828-d0fefd4d2ee3",
   "metadata": {},
   "outputs": [],
   "source": [
    "merg_X_2_4 = pd.concat([X_2, X_4_1], axis=1)"
   ]
  },
  {
   "cell_type": "code",
   "execution_count": 6,
   "id": "ecfbd749-17e4-4e60-8aeb-c6505d9b29f9",
   "metadata": {},
   "outputs": [
    {
     "name": "stdout",
     "output_type": "stream",
     "text": [
      "                                      Инциденты Источник   \n",
      "0                                Открыт колодец      MVK  \\\n",
      "1  Отклонение ГВС ниже нормы ночью (мониторинг)    ASUPR   \n",
      "2   Отклонение ГВС ниже нормы днем (мониторинг)    ASUPR   \n",
      "3                    Температура ГВС ниже нормы    ASUPR   \n",
      "4                    Температура ГВС ниже нормы    ASUPR   \n",
      "\n",
      "  Дата создания во внешней системе               Дата закрытия Округ   \n",
      "0       2022-08-30 14:41:53.000000  2022-08-30 15:40:26.565000   ВАО  \\\n",
      "1       2022-02-20 06:24:07.000000  2022-04-04 02:43:22.101000   ВАО   \n",
      "2       2022-03-07 21:04:01.000000  2022-03-09 09:33:24.894000   ВАО   \n",
      "3       2022-03-05 22:13:33.000000  2022-03-05 19:14:00.190000   ВАО   \n",
      "4       2022-02-18 21:43:54.000000  2022-02-18 18:44:14.682000   ВАО   \n",
      "\n",
      "                                               Адрес     unom   \n",
      "0  внутригородская территория муниципальный округ...  2115191  \\\n",
      "1  внутригородская территория муниципальный округ...  2404461   \n",
      "2  внутригородская территория муниципальный округ...  2404461   \n",
      "3  внутригородская территория муниципальный округ...  2404461   \n",
      "4  внутригородская территория муниципальный округ...  2404461   \n",
      "\n",
      "  Дата и время завершения события во  №\\nп/п    Код   \n",
      "0                                NaN     1.0  105.0  \\\n",
      "1                                NaN     2.0   26.0   \n",
      "2                                NaN     3.0    9.0   \n",
      "3                                NaN     4.0  104.0   \n",
      "4                                NaN     5.0   20.0   \n",
      "\n",
      "                                        Наименование   \n",
      "0                              строительный контроль  \\\n",
      "1  ремонт подъездов, направленный на восстановлен...   \n",
      "2  ремонт фасада (замена оконных блоков, располож...   \n",
      "3  проведение экспертизы проектной документации п...   \n",
      "4                  разработка проектной документации   \n",
      "\n",
      "  Наименование объекта общего имущества Тип работ   Группа работ   \n",
      "0                 Строительный контроль    Услуга  Стройконтроль  \\\n",
      "1                               Подъезд    Работа            СМР   \n",
      "2                  Фасад(оконные блоки)    Работа            СМР   \n",
      "3                 проведение экспертизы    Услуга            СМР   \n",
      "4     разработка проектной документации    Услуга            СМР   \n",
      "\n",
      "  Сокращенное наименование работы   \n",
      "0                              СК  \\\n",
      "1                         Подъезд   \n",
      "2                            Окна   \n",
      "3           проведение экспертизы   \n",
      "4                             ПСД   \n",
      "\n",
      "                              Виды работ в 2022 году  \n",
      "0                                                NaN  \n",
      "1  ремонт подъездов, направленный на восстановлен...  \n",
      "2  замена оконных блоков, расположенных в помещен...  \n",
      "3                                                NaN  \n",
      "4                                                NaN  \n"
     ]
    }
   ],
   "source": [
    "print(merg_X_2_4.head())"
   ]
  },
  {
   "cell_type": "code",
   "execution_count": null,
   "id": "8c6ec5c1-94fe-46ef-bb0e-dac4b69623fa",
   "metadata": {},
   "outputs": [],
   "source": [
    "#Создание TF-IDF векторов из текста\n",
    "merg_X_2_4['Наименование'] = merg_X_2_4['Наименование'].fillna('')\n",
    "merg_X_2_4['Инциденты'] = merg_X_2_4['Инциденты'].fillna('')\n",
    "vectorizer = TfidfVectorizer() \n",
    "X = vectorizer.fit_transform(merg_X_2_4['Наименование']) \n",
    "# Использование SVM для классификации \n",
    "clf = svm.SVC() \n",
    "clf.fit(X, merg_X_2_4['Инциденты'])"
   ]
  },
  {
   "cell_type": "code",
   "execution_count": null,
   "id": "3f14be21-0ced-437f-8466-85536a75c83d",
   "metadata": {},
   "outputs": [],
   "source": []
  },
  {
   "cell_type": "code",
   "execution_count": null,
   "id": "9dae5e6d-04d3-4d47-8390-b6747a0bc5a9",
   "metadata": {},
   "outputs": [],
   "source": []
  },
  {
   "cell_type": "code",
   "execution_count": null,
   "id": "4a8c2a92-4e76-4907-88f8-7dd951a6e63e",
   "metadata": {},
   "outputs": [],
   "source": [
    "from sklearn.model_selection import train_test_split"
   ]
  },
  {
   "cell_type": "code",
   "execution_count": null,
   "id": "4d9872e3-03f4-4f39-9ebb-6910a757b2d9",
   "metadata": {},
   "outputs": [],
   "source": [
    "# Разделение данных на тренировочный и тестовый наборы\n",
    "X_train, X_test, y_train, y_test = train_test_split(X, merg_X_2_4['Инциденты'], test_size=0.2, random_state=42)"
   ]
  },
  {
   "cell_type": "code",
   "execution_count": null,
   "id": "2e0e373e-41ef-4a55-8e9f-92dea74038b3",
   "metadata": {},
   "outputs": [],
   "source": [
    "# Обучение модели на тренировочных данных\n",
    "clf.fit(X_train, y_train)\n"
   ]
  },
  {
   "cell_type": "code",
   "execution_count": null,
   "id": "80999ca3-e8a2-42c2-8e85-840cd19d4b54",
   "metadata": {},
   "outputs": [],
   "source": [
    "# Генерация предсказаний на тестовых данных\n",
    "predictions = clf.predict(X_test)"
   ]
  },
  {
   "cell_type": "code",
   "execution_count": null,
   "id": "59fa4abf-c6b5-42b5-a471-007b699510f4",
   "metadata": {},
   "outputs": [],
   "source": [
    "# Добавление столбца с предсказаниями в исходный DataFrame\n",
    "merg_X_2_4['predictions'] = clf.predict(X)"
   ]
  },
  {
   "cell_type": "code",
   "execution_count": null,
   "id": "a7eb96ee-91fa-4d1e-9ff5-c9410ddd3bbc",
   "metadata": {},
   "outputs": [],
   "source": []
  },
  {
   "cell_type": "code",
   "execution_count": null,
   "id": "5e3c2fc8-fc91-49d3-a259-be276dd11da6",
   "metadata": {},
   "outputs": [],
   "source": [
    "# Вывод наименований, соответствующих им инцидентов и предсказаний\n",
    "for index, row in merg_X_2_4.iterrows():\n",
    "    print(f\"Наименование: {row['Наименование']}\")\n",
    "    print(f\"Инциденты: {row['Инциденты']}\")\n",
    "    print(f\"Предсказание: {row['predictions']}\")\n",
    "    print(\"---------\")"
   ]
  }
 ],
 "metadata": {
  "kernelspec": {
   "display_name": "myenv",
   "language": "python",
   "name": "myenv"
  },
  "language_info": {
   "codemirror_mode": {
    "name": "ipython",
    "version": 3
   },
   "file_extension": ".py",
   "mimetype": "text/x-python",
   "name": "python",
   "nbconvert_exporter": "python",
   "pygments_lexer": "ipython3",
   "version": "3.9.13"
  }
 },
 "nbformat": 4,
 "nbformat_minor": 5
}
